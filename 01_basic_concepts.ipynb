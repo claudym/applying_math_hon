{
 "cells": [
  {
   "cell_type": "markdown",
   "metadata": {},
   "source": [
    "# NumPy arrays"
   ]
  },
  {
   "cell_type": "code",
   "execution_count": 1,
   "metadata": {},
   "outputs": [
    {
     "name": "stdout",
     "output_type": "stream",
     "text": [
      "[1 2 3 4]\n",
      "int64\n"
     ]
    }
   ],
   "source": [
    "# numpy makes use of low-level libraries for working with vector and matrices such as\n",
    "# Linear Algebra Subprograms (BLAS) and the Linear Algebra Package (LAPACK)\n",
    "import numpy as np\n",
    "\n",
    "# int array\n",
    "ary = np.array([1, 2, 3, 4])\n",
    "print(ary)\n",
    "print(ary.dtype)"
   ]
  },
  {
   "cell_type": "code",
   "execution_count": 2,
   "metadata": {},
   "outputs": [
    {
     "data": {
      "text/plain": [
       "array([1., 2., 3., 4.])"
      ]
     },
     "execution_count": 2,
     "metadata": {},
     "output_type": "execute_result"
    }
   ],
   "source": [
    "# float array\n",
    "np.array([1, 2, 3, 4], dtype=np.float64)"
   ]
  },
  {
   "cell_type": "code",
   "execution_count": 3,
   "metadata": {},
   "outputs": [
    {
     "name": "stdout",
     "output_type": "stream",
     "text": [
      "[2 3 5 7]\n",
      "int64\n",
      "[2. 3. 5. 7.]\n",
      "float64\n"
     ]
    }
   ],
   "source": [
    "# change array type\n",
    "arr = np.array([2, 3, 5, 7])\n",
    "print(arr)\n",
    "print(arr.dtype)\n",
    "arr = arr.astype(np.float64)\n",
    "print(arr)\n",
    "print(arr.dtype)"
   ]
  },
  {
   "cell_type": "code",
   "execution_count": 4,
   "metadata": {},
   "outputs": [
    {
     "name": "stdout",
     "output_type": "stream",
     "text": [
      "0\n",
      "2\n"
     ]
    }
   ],
   "source": [
    "# element access: arr[i]\n",
    "ary = np.array([0, 2, 4, 6])\n",
    "print(ary[0])\n",
    "print(ary[1])"
   ]
  },
  {
   "cell_type": "code",
   "execution_count": 5,
   "metadata": {},
   "outputs": [
    {
     "name": "stdout",
     "output_type": "stream",
     "text": [
      "[0 2]\n",
      "[2 6]\n"
     ]
    }
   ],
   "source": [
    "# slicing too: arr[start:stop:step]\n",
    "futatsu = ary[:2]\n",
    "print(futatsu)\n",
    "suri_x = ary[1::2]\n",
    "print(suri_x)"
   ]
  },
  {
   "cell_type": "code",
   "execution_count": 6,
   "metadata": {},
   "outputs": [
    {
     "name": "stdout",
     "output_type": "stream",
     "text": [
      "2 * arr_1 = [ 10   6 -18  16]\n",
      "arr_0 + arr_1  = [ 7  8 -2 11]\n",
      "arr_0 - arr_1  = [-3  2 16 -5]\n",
      "arr_0 * arr_1  = [ 10  15 -63  24]\n",
      "arr_0 / arr_1  = [ 0.4         1.66666667 -0.77777778  0.375     ]\n",
      "arr_1 ** arr_0 = [      25      243 -4782969      512]\n"
     ]
    }
   ],
   "source": [
    "# array arithmetics (component-wise)\n",
    "arr_0 = np.array([2, 5, 7, 3])\n",
    "arr_1 = np.array([5, 3, -9, 8])\n",
    "print('2 * arr_1 =', 2 * arr_1)\n",
    "print('arr_0 + arr_1  =', arr_0 + arr_1)\n",
    "print('arr_0 - arr_1  =', arr_0 - arr_1)\n",
    "print('arr_0 * arr_1  =', arr_0 * arr_1)\n",
    "print('arr_0 / arr_1  =', arr_0 / arr_1)\n",
    "print('arr_1 ** arr_0 =', arr_1 ** arr_0)"
   ]
  },
  {
   "cell_type": "code",
   "execution_count": 7,
   "metadata": {},
   "outputs": [
    {
     "data": {
      "text/plain": [
       "array([0.  , 0.25, 0.5 , 0.75, 1.  ])"
      ]
     },
     "execution_count": 7,
     "metadata": {},
     "output_type": "execute_result"
    }
   ],
   "source": [
    "# create array of numbers at regular intervals\n",
    "np.linspace(0, 1, 5)  # (start, inclusive_end, n_elem)"
   ]
  },
  {
   "cell_type": "code",
   "execution_count": 10,
   "metadata": {},
   "outputs": [
    {
     "data": {
      "text/plain": [
       "array([0. , 0.3, 0.6, 0.9, 1.2])"
      ]
     },
     "execution_count": 10,
     "metadata": {},
     "output_type": "execute_result"
    }
   ],
   "source": [
    "np.arange(0, 1.3, 0.3)  # (start, end, step)"
   ]
  },
  {
   "cell_type": "code",
   "execution_count": 11,
   "metadata": {},
   "outputs": [
    {
     "name": "stdout",
     "output_type": "stream",
     "text": [
      "(2, 2)\n",
      "(2,)\n"
     ]
    }
   ],
   "source": [
    "# higher dimensional arrays\n",
    "mat = np.array([[3, 4], [7, 6]])\n",
    "vec = np.array([1, 2])\n",
    "print(mat.shape)  # the number of element in the shape tuple in the number of dimensions\n",
    "print(vec.shape)  # the values of the elements are the number of elements inside each dimension (each nested array)"
   ]
  },
  {
   "cell_type": "code",
   "execution_count": 12,
   "metadata": {},
   "outputs": [
    {
     "data": {
      "text/plain": [
       "array([3, 4, 7, 6])"
      ]
     },
     "execution_count": 12,
     "metadata": {},
     "output_type": "execute_result"
    }
   ],
   "source": [
    "# reshape to flat array\n",
    "mat.reshape(4,)"
   ]
  },
  {
   "cell_type": "code",
   "execution_count": 13,
   "metadata": {},
   "outputs": [
    {
     "data": {
      "text/plain": [
       "2"
      ]
     },
     "execution_count": 13,
     "metadata": {},
     "output_type": "execute_result"
    }
   ],
   "source": [
    "# dimensions can also be checked this way:\n",
    "mat.ndim"
   ]
  },
  {
   "cell_type": "code",
   "execution_count": 14,
   "metadata": {},
   "outputs": [
    {
     "name": "stdout",
     "output_type": "stream",
     "text": [
      "arr_3d =\n",
      "[[[ 1  2]\n",
      "  [ 3  4]]\n",
      "\n",
      " [[ 5  6]\n",
      "  [ 7  8]]\n",
      "\n",
      " [[ 9 10]\n",
      "  [11 12]]]\n",
      "arr_3d.shape: (3, 2, 2)\n"
     ]
    }
   ],
   "source": [
    "# higher dimensional arrays\n",
    "mat1 = [[1, 2], [3, 4]]\n",
    "mat2 = [[5, 6], [7, 8]]\n",
    "mat3 = [[9, 10], [11, 12]]\n",
    "arr_3d = np.array([mat1, mat2, mat3])\n",
    "print(f'arr_3d =\\n{arr_3d}')\n",
    "print('arr_3d.shape:', arr_3d.shape)"
   ]
  },
  {
   "cell_type": "code",
   "execution_count": 14,
   "metadata": {},
   "outputs": [
    {
     "name": "stdout",
     "output_type": "stream",
     "text": [
      "[[3 4]\n",
      " [7 6]]\n"
     ]
    },
    {
     "data": {
      "text/plain": [
       "7"
      ]
     },
     "execution_count": 14,
     "metadata": {},
     "output_type": "execute_result"
    }
   ],
   "source": [
    "# access an element in a multi-dimensional array\n",
    "print(mat)\n",
    "mat[1, 0]"
   ]
  },
  {
   "cell_type": "code",
   "execution_count": 15,
   "metadata": {},
   "outputs": [
    {
     "data": {
      "text/plain": [
       "array([3, 7])"
      ]
     },
     "execution_count": 15,
     "metadata": {},
     "output_type": "execute_result"
    }
   ],
   "source": [
    "# also supports slicing\n",
    "mat[:, 0]  # all members of a single column (0th column)"
   ]
  },
  {
   "cell_type": "markdown",
   "metadata": {},
   "source": [
    "# Matrices"
   ]
  },
  {
   "cell_type": "code",
   "execution_count": 15,
   "metadata": {},
   "outputs": [
    {
     "data": {
      "text/plain": [
       "array([[1., 0., 0.],\n",
       "       [0., 1., 0.],\n",
       "       [0., 0., 1.]])"
      ]
     },
     "execution_count": 15,
     "metadata": {},
     "output_type": "execute_result"
    }
   ],
   "source": [
    "# identity matrix\n",
    "np.eye(3)  # np.identity(3) also works"
   ]
  },
  {
   "cell_type": "code",
   "execution_count": 18,
   "metadata": {},
   "outputs": [
    {
     "name": "stdout",
     "output_type": "stream",
     "text": [
      "[[1 2]\n",
      " [3 4]]\n",
      "transposed:\n",
      "[[1 3]\n",
      " [2 4]]\n",
      "[[1 3]\n",
      " [2 4]]\n"
     ]
    }
   ],
   "source": [
    "# transpose of a matrix\n",
    "mat = np.array([[1, 2], [3, 4]])\n",
    "print(mat)\n",
    "print(\"transposed:\")\n",
    "print(mat.transpose())\n",
    "print(mat.T)  # object property that returns the transpose"
   ]
  },
  {
   "cell_type": "code",
   "execution_count": 23,
   "metadata": {},
   "outputs": [
    {
     "name": "stdout",
     "output_type": "stream",
     "text": [
      "5\n"
     ]
    }
   ],
   "source": [
    "# trace of a matrix: the sum of the elements along the leading diagonal\n",
    "mat.trace()"
   ]
  },
  {
   "cell_type": "code",
   "execution_count": 24,
   "metadata": {},
   "outputs": [
    {
     "data": {
      "text/plain": [
       "array([[-1,  3],\n",
       "       [-3,  7]])"
      ]
     },
     "execution_count": 24,
     "metadata": {},
     "output_type": "execute_result"
    }
   ],
   "source": [
    "# Matrix Multiplication\n",
    "A = np.array([[1, 2], [3, 4]])\n",
    "B = np.array([[-1, 1], [0, 1]])\n",
    "A @ B  # matrix multiplication operator= @ "
   ]
  },
  {
   "cell_type": "code",
   "execution_count": 25,
   "metadata": {},
   "outputs": [
    {
     "data": {
      "text/plain": [
       "array([[-1,  2],\n",
       "       [ 0,  4]])"
      ]
     },
     "execution_count": 25,
     "metadata": {},
     "output_type": "execute_result"
    }
   ],
   "source": [
    "# keep in mind this is different from component-wise multiplication:\n",
    "A * B"
   ]
  },
  {
   "cell_type": "code",
   "execution_count": 26,
   "metadata": {},
   "outputs": [
    {
     "data": {
      "text/plain": [
       "array([[2, 3],\n",
       "       [5, 7]])"
      ]
     },
     "execution_count": 26,
     "metadata": {},
     "output_type": "execute_result"
    }
   ],
   "source": [
    "# the Identity Matrix is a neutral element under matrix multiplication\n",
    "A = np.array([[2, 3], [5, 7]])\n",
    "I = np.eye(2, dtype=np.int64)  # identity matrix of ints (otherwise it would be floats)\n",
    "A @ I"
   ]
  },
  {
   "cell_type": "code",
   "execution_count": 27,
   "metadata": {},
   "outputs": [
    {
     "data": {
      "text/plain": [
       "-0.9999999999999987"
      ]
     },
     "execution_count": 27,
     "metadata": {},
     "output_type": "execute_result"
    }
   ],
   "source": [
    "# Determinants and Inverses\n",
    "\n",
    "# Determinant: a scalar value that is a function of the entries of a square matrix\n",
    "# It allows characterizing some properties of the matrix and the linear map represented by the matrix\n",
    "np.linalg.det(A)"
   ]
  },
  {
   "cell_type": "code",
   "execution_count": 33,
   "metadata": {},
   "outputs": [
    {
     "name": "stdout",
     "output_type": "stream",
     "text": [
      "[[2 3]\n",
      " [5 7]]\n",
      "[[-7.  3.]\n",
      " [ 5. -2.]]\n",
      "A @ Ainv =\n",
      "[[ 1.00000000e+00 -4.44089210e-16]\n",
      " [-7.10542736e-15  1.00000000e+00]]\n",
      "Ainv @ A =\n",
      "[[ 1.00000000e+00 -8.88178420e-16]\n",
      " [-1.33226763e-15  1.00000000e+00]]\n"
     ]
    }
   ],
   "source": [
    "# Inverse\n",
    "# AB = BA = I; where I is the identity matrix and B is the inverse of A\n",
    "# a matrix is not singular (that is, has an inverse) if, and only if, the determinant of that matrix is not 0\n",
    "print(A)\n",
    "Ainv=np.linalg.inv(A)\n",
    "print(Ainv)\n",
    "\n",
    "# verify is indeed the matrix inverse of A\n",
    "print(f'A @ Ainv =\\n{A @ Ainv}')\n",
    "print(f'Ainv @ A =\\n{Ainv @ A}')"
   ]
  },
  {
   "cell_type": "code",
   "execution_count": 36,
   "metadata": {},
   "outputs": [
    {
     "data": {
      "text/plain": [
       "array([[2070.11707525, 2942.33805282],\n",
       "       [4903.8967547 , 6974.01382995]])"
      ]
     },
     "execution_count": 36,
     "metadata": {},
     "output_type": "execute_result"
    }
   ],
   "source": [
    "# other functions\n",
    "import scipy as sp  # use scipy.linalg to compute the equilavent matrix operations such expm, sinm, tanm, etc...\n",
    "\n",
    "sp.linalg.expm(A)  # matrix exponential"
   ]
  },
  {
   "cell_type": "code",
   "execution_count": 37,
   "metadata": {},
   "outputs": [
    {
     "data": {
      "text/plain": [
       "array([[-0.01358369,  0.13646243],\n",
       "       [ 0.22743739,  0.2138537 ]])"
      ]
     },
     "execution_count": 37,
     "metadata": {},
     "output_type": "execute_result"
    }
   ],
   "source": [
    "sp.linalg.sinm(A)  # matrix sine"
   ]
  },
  {
   "cell_type": "code",
   "execution_count": 38,
   "metadata": {},
   "outputs": [
    {
     "data": {
      "text/plain": [
       "array([ 1., -1.,  2.])"
      ]
     },
     "execution_count": 38,
     "metadata": {},
     "output_type": "execute_result"
    }
   ],
   "source": [
    "# Systems of linear equations\n",
    "# Ax = b; where A is the matrix containing the coefficients from the equation,\n",
    "#         x is the unknown (column) vector and b is the vector with the known values\n",
    "\n",
    "# example:\n",
    "# 3x_1 - 2x_2 +x_3 = 7\n",
    "# x_1 + x_2 - 2x_3 = -4\n",
    "# -3x_1 - 2x_2 + x_3 = 1\n",
    "A = np.array([[3, -2, 1],\n",
    "              [1, 1, -2],\n",
    "              [-3, -2, 1]])\n",
    "b = np.array([7, -4, 1])\n",
    "np.linalg.solve(A, b)"
   ]
  },
  {
   "cell_type": "code",
   "execution_count": 39,
   "metadata": {},
   "outputs": [
    {
     "data": {
      "text/plain": [
       "array([ 1., -1.,  2.])"
      ]
     },
     "execution_count": 39,
     "metadata": {},
     "output_type": "execute_result"
    }
   ],
   "source": [
    "# Ax = b; x = A^-1(b) \n",
    "np.linalg.inv(A) @ b  # this also gives us the solution to the equation (but is slower and more error-prone)"
   ]
  },
  {
   "cell_type": "code",
   "execution_count": 41,
   "metadata": {},
   "outputs": [
    {
     "name": "stdout",
     "output_type": "stream",
     "text": [
      "[ 6.82315616 -1.53711415 -0.28604201]\n",
      "[[ 0.73271846 -0.65131465  0.19726352]\n",
      " [-0.20260301  0.06794858  0.97690072]\n",
      " [ 0.64967352  0.75575937  0.08217113]]\n"
     ]
    }
   ],
   "source": [
    "# Eigenvalues and Eigenvectors\n",
    "# Ax = λx; where A is a square (n x n) matrix, x is a vector, and λ is a number\n",
    "#          Numbers λ for which there is an x that solves this equation are called eigenvalues,\n",
    "#          and the corresponding vectors x are called eigenvectors.\n",
    "\n",
    "A = np.array([[3, -1, 4],\n",
    "              [-1, 0, -1],\n",
    "              [4, -1, 2]])\n",
    "v, B = np.linalg.eig(A)  # v is a 1-d array containing the eigenvalues\n",
    "print(v)            # and B is a 2-d array where each column correspond to an eigenvector\n",
    "print(B)"
   ]
  },
  {
   "cell_type": "code",
   "execution_count": 43,
   "metadata": {},
   "outputs": [
    {
     "name": "stdout",
     "output_type": "stream",
     "text": [
      "6.823156164525971\n",
      "[ 0.73271846 -0.20260301  0.64967352]\n"
     ]
    }
   ],
   "source": [
    "i = 0 # first eigenvalue/eigenvector pair\n",
    "lambda0 = v[i]\n",
    "print(lambda0)\n",
    "\n",
    "x0 = B[:, i]  # ith column of B (first eigenvector)\n",
    "print(x0)"
   ]
  },
  {
   "cell_type": "code",
   "execution_count": 44,
   "metadata": {},
   "outputs": [
    {
     "data": {
      "text/plain": [
       "1.0"
      ]
     },
     "execution_count": 44,
     "metadata": {},
     "output_type": "execute_result"
    }
   ],
   "source": [
    "# eigenvectors are normalized (norm=1)\n",
    "np.linalg.norm(x0)"
   ]
  },
  {
   "cell_type": "code",
   "execution_count": 45,
   "metadata": {},
   "outputs": [
    {
     "name": "stdout",
     "output_type": "stream",
     "text": [
      "  (0, 0)\t1.0\n",
      "  (1, 1)\t1.0\n",
      "  (2, 2)\t1.0\n",
      "[[1. 0. 0.]\n",
      " [0. 1. 0.]\n",
      " [0. 0. 1.]]\n"
     ]
    }
   ],
   "source": [
    "# sparse matrices\n",
    "A = np.array([[1., 0., 0.], [0., 1., 0.], [0., 0., 1.]])\n",
    "sp_A = sp.sparse.csr_matrix(A)\n",
    "print(sp_A)  # compressed sparse row (csr) matrix representation\n",
    "print(sp_A.toarray())"
   ]
  },
  {
   "cell_type": "code",
   "execution_count": 46,
   "metadata": {},
   "outputs": [
    {
     "name": "stdout",
     "output_type": "stream",
     "text": [
      "  (0, 0)\t2.0\n",
      "  (0, 1)\t-1.0\n",
      "  (1, 0)\t-1.0\n",
      "  (1, 1)\t2.0\n",
      "  (1, 2)\t-1.0\n",
      "  (2, 1)\t-1.0\n",
      "  (2, 2)\t2.0\n",
      "  (2, 3)\t-1.0\n",
      "  (3, 2)\t-1.0\n",
      "  (3, 3)\t2.0\n",
      "  (3, 4)\t-1.0\n",
      "  (4, 3)\t-1.0\n",
      "  (4, 4)\t2.0\n",
      "[[ 2. -1.  0.  0.  0.]\n",
      " [-1.  2. -1.  0.  0.]\n",
      " [ 0. -1.  2. -1.  0.]\n",
      " [ 0.  0. -1.  2. -1.]\n",
      " [ 0.  0.  0. -1.  2.]]\n",
      "T.shape: (5, 5)\n",
      "T.ndim: 2\n",
      "T.format: csr\n"
     ]
    }
   ],
   "source": [
    "# diagonal patterns\n",
    "T = sp.sparse.diags([-1, 2, -1], (-1, 0, 1), shape=(5, 5), format='csr')\n",
    "print(T)\n",
    "print(T.toarray())\n",
    "print('T.shape:', T.shape)\n",
    "print('T.ndim:', T.ndim)\n",
    "print('T.format:', T.format)"
   ]
  },
  {
   "cell_type": "code",
   "execution_count": 47,
   "metadata": {},
   "outputs": [
    {
     "data": {
      "text/plain": [
       "array([2.33333333, 4.66666667, 6.        , 6.33333333, 4.66666667])"
      ]
     },
     "execution_count": 47,
     "metadata": {},
     "output_type": "execute_result"
    }
   ],
   "source": [
    "# sparse solving routines\n",
    "sp.sparse.linalg.spsolve(T, np.array([0, 1, 1, 2, 3]))"
   ]
  }
 ],
 "metadata": {
  "kernelspec": {
   "display_name": ".venv",
   "language": "python",
   "name": "python3"
  },
  "language_info": {
   "codemirror_mode": {
    "name": "ipython",
    "version": 3
   },
   "file_extension": ".py",
   "mimetype": "text/x-python",
   "name": "python",
   "nbconvert_exporter": "python",
   "pygments_lexer": "ipython3",
   "version": "3.10.7"
  },
  "orig_nbformat": 4,
  "vscode": {
   "interpreter": {
    "hash": "1c7e30489b2115306a214c9b2172dbefc1980d7ef84c99931db90acdf4b8db20"
   }
  }
 },
 "nbformat": 4,
 "nbformat_minor": 2
}
